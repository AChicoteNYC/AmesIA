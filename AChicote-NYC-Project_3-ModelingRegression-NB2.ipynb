{
 "cells": [
  {
   "cell_type": "markdown",
   "metadata": {},
   "source": [
    "\n",
    "# Regression Models on Ames Real Estate Data\n",
    "\n",
    "_Author: Alex Chicote (NYC)_\n",
    "\n",
    "---\n",
    "<img src=\"./photo303159.jpeg\" style=\"float: center; margin: 20px; height: 300px\">\n",
    "\n",
    "        Is it possible to predict the price of sale for a real estate unit in Ames IA?\n",
    "\n",
    "        What are the most important factors to determine it?"
   ]
  },
  {
   "cell_type": "markdown",
   "metadata": {},
   "source": [
    "## Plan of Action\n",
    "\n",
    "### Steps:\n",
    "\n",
    "\n",
    "\n",
    "   - [1. Importing all the modules and dataframes from Notebook(AChicote-Project-3-NB-1-EDA).](#importing)\n",
    "   - [2. Finding the baseline (score to beat).](#baseline) \n",
    "   - [3. Spliting train and set data and scale it.](#scaling)\n",
    "   - [4. Trying different models with all features.](#models)\n",
    "   - [5. Repeat the process while filtering (eliminating) models and features until reaching the score.](#second_try)\n",
    "   - [6. Evaluating the final model and plotting it.](#plotting)\n",
    "   "
   ]
  },
  {
   "cell_type": "markdown",
   "metadata": {},
   "source": [
    "<a id='importing'></a>"
   ]
  },
  {
   "cell_type": "code",
   "execution_count": 1,
   "metadata": {
    "collapsed": true
   },
   "outputs": [],
   "source": [
    "                        # Importing all necessary modules (and more)\n",
    "import pandas as pd\n",
    "import numpy as np\n",
    "from sklearn.ensemble import AdaBoostClassifier, GradientBoostingClassifier, AdaBoostRegressor, GradientBoostingRegressor\n",
    "from sklearn.tree import DecisionTreeClassifier\n",
    "from sklearn.model_selection import train_test_split, GridSearchCV, cross_val_score, cross_val_predict\n",
    "from sklearn.datasets import load_breast_cancer\n",
    "import pandas as pd\n",
    "import seaborn as sns\n",
    "import matplotlib.pyplot as plt\n",
    "from sklearn.preprocessing import StandardScaler\n",
    "from sklearn.metrics import r2_score, mean_squared_error\n",
    "from sklearn.linear_model import LinearRegression, Lasso, Ridge, ElasticNet, LogisticRegression, LassoCV, RidgeCV, ElasticNetCV\n",
    "from sklearn.feature_selection import RFE, SelectKBest, f_classif, f_regression\n",
    "from sklearn.svm import SVR\n",
    "%matplotlib inline"
   ]
  },
  {
   "cell_type": "code",
   "execution_count": 2,
   "metadata": {},
   "outputs": [
    {
     "data": {
      "text/html": [
       "<div>\n",
       "<style>\n",
       "    .dataframe thead tr:only-child th {\n",
       "        text-align: right;\n",
       "    }\n",
       "\n",
       "    .dataframe thead th {\n",
       "        text-align: left;\n",
       "    }\n",
       "\n",
       "    .dataframe tbody tr th {\n",
       "        vertical-align: top;\n",
       "    }\n",
       "</style>\n",
       "<table border=\"1\" class=\"dataframe\">\n",
       "  <thead>\n",
       "    <tr style=\"text-align: right;\">\n",
       "      <th></th>\n",
       "      <th>id</th>\n",
       "      <th>pid</th>\n",
       "      <th>ms_subclass</th>\n",
       "      <th>lot_frontage</th>\n",
       "      <th>lot_area</th>\n",
       "      <th>overall_qual</th>\n",
       "      <th>overall_cond</th>\n",
       "      <th>year_built</th>\n",
       "      <th>year_remod/add</th>\n",
       "      <th>mas_vnr_area</th>\n",
       "      <th>...</th>\n",
       "      <th>sale_type_COD</th>\n",
       "      <th>sale_type_CWD</th>\n",
       "      <th>sale_type_Con</th>\n",
       "      <th>sale_type_ConLD</th>\n",
       "      <th>sale_type_ConLI</th>\n",
       "      <th>sale_type_ConLw</th>\n",
       "      <th>sale_type_New</th>\n",
       "      <th>sale_type_Oth</th>\n",
       "      <th>sale_type_WD</th>\n",
       "      <th>sale_condition</th>\n",
       "    </tr>\n",
       "  </thead>\n",
       "  <tbody>\n",
       "    <tr>\n",
       "      <th>0</th>\n",
       "      <td>109</td>\n",
       "      <td>533352170</td>\n",
       "      <td>60</td>\n",
       "      <td>69.0552</td>\n",
       "      <td>13517</td>\n",
       "      <td>6</td>\n",
       "      <td>8</td>\n",
       "      <td>1976</td>\n",
       "      <td>2005</td>\n",
       "      <td>289.0</td>\n",
       "      <td>...</td>\n",
       "      <td>0</td>\n",
       "      <td>0</td>\n",
       "      <td>0</td>\n",
       "      <td>0</td>\n",
       "      <td>0</td>\n",
       "      <td>0</td>\n",
       "      <td>0</td>\n",
       "      <td>0</td>\n",
       "      <td>1</td>\n",
       "      <td>Normal</td>\n",
       "    </tr>\n",
       "    <tr>\n",
       "      <th>1</th>\n",
       "      <td>544</td>\n",
       "      <td>531379050</td>\n",
       "      <td>60</td>\n",
       "      <td>43.0000</td>\n",
       "      <td>11492</td>\n",
       "      <td>7</td>\n",
       "      <td>5</td>\n",
       "      <td>1996</td>\n",
       "      <td>1997</td>\n",
       "      <td>132.0</td>\n",
       "      <td>...</td>\n",
       "      <td>0</td>\n",
       "      <td>0</td>\n",
       "      <td>0</td>\n",
       "      <td>0</td>\n",
       "      <td>0</td>\n",
       "      <td>0</td>\n",
       "      <td>0</td>\n",
       "      <td>0</td>\n",
       "      <td>1</td>\n",
       "      <td>Normal</td>\n",
       "    </tr>\n",
       "    <tr>\n",
       "      <th>2</th>\n",
       "      <td>153</td>\n",
       "      <td>535304180</td>\n",
       "      <td>20</td>\n",
       "      <td>68.0000</td>\n",
       "      <td>7922</td>\n",
       "      <td>5</td>\n",
       "      <td>7</td>\n",
       "      <td>1953</td>\n",
       "      <td>2007</td>\n",
       "      <td>0.0</td>\n",
       "      <td>...</td>\n",
       "      <td>0</td>\n",
       "      <td>0</td>\n",
       "      <td>0</td>\n",
       "      <td>0</td>\n",
       "      <td>0</td>\n",
       "      <td>0</td>\n",
       "      <td>0</td>\n",
       "      <td>0</td>\n",
       "      <td>1</td>\n",
       "      <td>Abnorml</td>\n",
       "    </tr>\n",
       "    <tr>\n",
       "      <th>3</th>\n",
       "      <td>318</td>\n",
       "      <td>916386060</td>\n",
       "      <td>60</td>\n",
       "      <td>73.0000</td>\n",
       "      <td>9802</td>\n",
       "      <td>5</td>\n",
       "      <td>5</td>\n",
       "      <td>2006</td>\n",
       "      <td>2007</td>\n",
       "      <td>0.0</td>\n",
       "      <td>...</td>\n",
       "      <td>0</td>\n",
       "      <td>0</td>\n",
       "      <td>0</td>\n",
       "      <td>0</td>\n",
       "      <td>0</td>\n",
       "      <td>0</td>\n",
       "      <td>0</td>\n",
       "      <td>0</td>\n",
       "      <td>1</td>\n",
       "      <td>Normal</td>\n",
       "    </tr>\n",
       "    <tr>\n",
       "      <th>4</th>\n",
       "      <td>255</td>\n",
       "      <td>906425045</td>\n",
       "      <td>50</td>\n",
       "      <td>82.0000</td>\n",
       "      <td>14235</td>\n",
       "      <td>6</td>\n",
       "      <td>8</td>\n",
       "      <td>1900</td>\n",
       "      <td>1993</td>\n",
       "      <td>0.0</td>\n",
       "      <td>...</td>\n",
       "      <td>0</td>\n",
       "      <td>0</td>\n",
       "      <td>0</td>\n",
       "      <td>0</td>\n",
       "      <td>0</td>\n",
       "      <td>0</td>\n",
       "      <td>0</td>\n",
       "      <td>0</td>\n",
       "      <td>1</td>\n",
       "      <td>Normal</td>\n",
       "    </tr>\n",
       "  </tbody>\n",
       "</table>\n",
       "<p>5 rows × 281 columns</p>\n",
       "</div>"
      ],
      "text/plain": [
       "    id        pid  ms_subclass  lot_frontage  lot_area  overall_qual  \\\n",
       "0  109  533352170           60       69.0552     13517             6   \n",
       "1  544  531379050           60       43.0000     11492             7   \n",
       "2  153  535304180           20       68.0000      7922             5   \n",
       "3  318  916386060           60       73.0000      9802             5   \n",
       "4  255  906425045           50       82.0000     14235             6   \n",
       "\n",
       "   overall_cond  year_built  year_remod/add  mas_vnr_area       ...        \\\n",
       "0             8        1976            2005         289.0       ...         \n",
       "1             5        1996            1997         132.0       ...         \n",
       "2             7        1953            2007           0.0       ...         \n",
       "3             5        2006            2007           0.0       ...         \n",
       "4             8        1900            1993           0.0       ...         \n",
       "\n",
       "   sale_type_COD  sale_type_CWD  sale_type_Con  sale_type_ConLD  \\\n",
       "0              0              0              0                0   \n",
       "1              0              0              0                0   \n",
       "2              0              0              0                0   \n",
       "3              0              0              0                0   \n",
       "4              0              0              0                0   \n",
       "\n",
       "   sale_type_ConLI  sale_type_ConLw  sale_type_New  sale_type_Oth  \\\n",
       "0                0                0              0              0   \n",
       "1                0                0              0              0   \n",
       "2                0                0              0              0   \n",
       "3                0                0              0              0   \n",
       "4                0                0              0              0   \n",
       "\n",
       "   sale_type_WD   sale_condition  \n",
       "0              1          Normal  \n",
       "1              1          Normal  \n",
       "2              1         Abnorml  \n",
       "3              1          Normal  \n",
       "4              1          Normal  \n",
       "\n",
       "[5 rows x 281 columns]"
      ]
     },
     "execution_count": 2,
     "metadata": {},
     "output_type": "execute_result"
    }
   ],
   "source": [
    "##loading data(train)\n",
    "file ='final_train.csv'\n",
    "train = pd.read_csv(file)\n",
    "train.head()"
   ]
  },
  {
   "cell_type": "code",
   "execution_count": 3,
   "metadata": {},
   "outputs": [
    {
     "data": {
      "text/html": [
       "<div>\n",
       "<style>\n",
       "    .dataframe thead tr:only-child th {\n",
       "        text-align: right;\n",
       "    }\n",
       "\n",
       "    .dataframe thead th {\n",
       "        text-align: left;\n",
       "    }\n",
       "\n",
       "    .dataframe tbody tr th {\n",
       "        vertical-align: top;\n",
       "    }\n",
       "</style>\n",
       "<table border=\"1\" class=\"dataframe\">\n",
       "  <thead>\n",
       "    <tr style=\"text-align: right;\">\n",
       "      <th></th>\n",
       "      <th>id</th>\n",
       "      <th>pid</th>\n",
       "      <th>ms_subclass</th>\n",
       "      <th>lot_frontage</th>\n",
       "      <th>lot_area</th>\n",
       "      <th>overall_qual</th>\n",
       "      <th>overall_cond</th>\n",
       "      <th>year_built</th>\n",
       "      <th>year_remod/add</th>\n",
       "      <th>mas_vnr_area</th>\n",
       "      <th>...</th>\n",
       "      <th>misc_feature_Shed</th>\n",
       "      <th>sale_type_COD</th>\n",
       "      <th>sale_type_CWD</th>\n",
       "      <th>sale_type_Con</th>\n",
       "      <th>sale_type_ConLD</th>\n",
       "      <th>sale_type_ConLI</th>\n",
       "      <th>sale_type_ConLw</th>\n",
       "      <th>sale_type_New</th>\n",
       "      <th>sale_type_Oth</th>\n",
       "      <th>sale_type_WD</th>\n",
       "    </tr>\n",
       "  </thead>\n",
       "  <tbody>\n",
       "    <tr>\n",
       "      <th>0</th>\n",
       "      <td>2658</td>\n",
       "      <td>902301120</td>\n",
       "      <td>190</td>\n",
       "      <td>69.000000</td>\n",
       "      <td>9142</td>\n",
       "      <td>6</td>\n",
       "      <td>8</td>\n",
       "      <td>1910</td>\n",
       "      <td>1950</td>\n",
       "      <td>0.0</td>\n",
       "      <td>...</td>\n",
       "      <td>0</td>\n",
       "      <td>0</td>\n",
       "      <td>0</td>\n",
       "      <td>0</td>\n",
       "      <td>0</td>\n",
       "      <td>0</td>\n",
       "      <td>0</td>\n",
       "      <td>0</td>\n",
       "      <td>0</td>\n",
       "      <td>1</td>\n",
       "    </tr>\n",
       "    <tr>\n",
       "      <th>1</th>\n",
       "      <td>2718</td>\n",
       "      <td>905108090</td>\n",
       "      <td>90</td>\n",
       "      <td>69.630042</td>\n",
       "      <td>9662</td>\n",
       "      <td>5</td>\n",
       "      <td>4</td>\n",
       "      <td>1977</td>\n",
       "      <td>1977</td>\n",
       "      <td>0.0</td>\n",
       "      <td>...</td>\n",
       "      <td>0</td>\n",
       "      <td>0</td>\n",
       "      <td>0</td>\n",
       "      <td>0</td>\n",
       "      <td>0</td>\n",
       "      <td>0</td>\n",
       "      <td>0</td>\n",
       "      <td>0</td>\n",
       "      <td>0</td>\n",
       "      <td>1</td>\n",
       "    </tr>\n",
       "    <tr>\n",
       "      <th>2</th>\n",
       "      <td>2414</td>\n",
       "      <td>528218130</td>\n",
       "      <td>60</td>\n",
       "      <td>58.000000</td>\n",
       "      <td>17104</td>\n",
       "      <td>7</td>\n",
       "      <td>5</td>\n",
       "      <td>2006</td>\n",
       "      <td>2006</td>\n",
       "      <td>0.0</td>\n",
       "      <td>...</td>\n",
       "      <td>0</td>\n",
       "      <td>0</td>\n",
       "      <td>0</td>\n",
       "      <td>0</td>\n",
       "      <td>0</td>\n",
       "      <td>0</td>\n",
       "      <td>0</td>\n",
       "      <td>1</td>\n",
       "      <td>0</td>\n",
       "      <td>0</td>\n",
       "    </tr>\n",
       "    <tr>\n",
       "      <th>3</th>\n",
       "      <td>1989</td>\n",
       "      <td>902207150</td>\n",
       "      <td>30</td>\n",
       "      <td>60.000000</td>\n",
       "      <td>8520</td>\n",
       "      <td>5</td>\n",
       "      <td>6</td>\n",
       "      <td>1923</td>\n",
       "      <td>2006</td>\n",
       "      <td>0.0</td>\n",
       "      <td>...</td>\n",
       "      <td>0</td>\n",
       "      <td>0</td>\n",
       "      <td>0</td>\n",
       "      <td>0</td>\n",
       "      <td>0</td>\n",
       "      <td>0</td>\n",
       "      <td>0</td>\n",
       "      <td>0</td>\n",
       "      <td>0</td>\n",
       "      <td>1</td>\n",
       "    </tr>\n",
       "    <tr>\n",
       "      <th>4</th>\n",
       "      <td>625</td>\n",
       "      <td>535105100</td>\n",
       "      <td>20</td>\n",
       "      <td>69.630042</td>\n",
       "      <td>9500</td>\n",
       "      <td>6</td>\n",
       "      <td>5</td>\n",
       "      <td>1963</td>\n",
       "      <td>1963</td>\n",
       "      <td>247.0</td>\n",
       "      <td>...</td>\n",
       "      <td>0</td>\n",
       "      <td>0</td>\n",
       "      <td>0</td>\n",
       "      <td>0</td>\n",
       "      <td>0</td>\n",
       "      <td>0</td>\n",
       "      <td>0</td>\n",
       "      <td>0</td>\n",
       "      <td>0</td>\n",
       "      <td>1</td>\n",
       "    </tr>\n",
       "  </tbody>\n",
       "</table>\n",
       "<p>5 rows × 279 columns</p>\n",
       "</div>"
      ],
      "text/plain": [
       "     id        pid  ms_subclass  lot_frontage  lot_area  overall_qual  \\\n",
       "0  2658  902301120          190     69.000000      9142             6   \n",
       "1  2718  905108090           90     69.630042      9662             5   \n",
       "2  2414  528218130           60     58.000000     17104             7   \n",
       "3  1989  902207150           30     60.000000      8520             5   \n",
       "4   625  535105100           20     69.630042      9500             6   \n",
       "\n",
       "   overall_cond  year_built  year_remod/add  mas_vnr_area      ...        \\\n",
       "0             8        1910            1950           0.0      ...         \n",
       "1             4        1977            1977           0.0      ...         \n",
       "2             5        2006            2006           0.0      ...         \n",
       "3             6        1923            2006           0.0      ...         \n",
       "4             5        1963            1963         247.0      ...         \n",
       "\n",
       "   misc_feature_Shed  sale_type_COD  sale_type_CWD  sale_type_Con  \\\n",
       "0                  0              0              0              0   \n",
       "1                  0              0              0              0   \n",
       "2                  0              0              0              0   \n",
       "3                  0              0              0              0   \n",
       "4                  0              0              0              0   \n",
       "\n",
       "   sale_type_ConLD  sale_type_ConLI  sale_type_ConLw  sale_type_New  \\\n",
       "0                0                0                0              0   \n",
       "1                0                0                0              0   \n",
       "2                0                0                0              1   \n",
       "3                0                0                0              0   \n",
       "4                0                0                0              0   \n",
       "\n",
       "   sale_type_Oth  sale_type_WD   \n",
       "0              0              1  \n",
       "1              0              1  \n",
       "2              0              0  \n",
       "3              0              1  \n",
       "4              0              1  \n",
       "\n",
       "[5 rows x 279 columns]"
      ]
     },
     "execution_count": 3,
     "metadata": {},
     "output_type": "execute_result"
    }
   ],
   "source": [
    "##Repeating the process in test\n",
    "##loading data(test)\n",
    "file ='final_test.csv'\n",
    "test = pd.read_csv(file)\n",
    "#\n",
    "test.head()"
   ]
  },
  {
   "cell_type": "code",
   "execution_count": 4,
   "metadata": {},
   "outputs": [
    {
     "name": "stdout",
     "output_type": "stream",
     "text": [
      "{'saleprice', 'sale_condition'} set()\n"
     ]
    }
   ],
   "source": [
    "##Making sure we have no surprises\n",
    "TEST = set(test.columns)\n",
    "TRAIN = set(train.columns)\n",
    "diff = TRAIN - TEST\n",
    "DIFF = TEST - TRAIN\n",
    "print(diff, DIFF)\n",
    "train.drop('sale_condition', axis =1, inplace=True)"
   ]
  },
  {
   "cell_type": "code",
   "execution_count": 10,
   "metadata": {},
   "outputs": [
    {
     "data": {
      "text/plain": [
       "(2051, 280)"
      ]
     },
     "execution_count": 10,
     "metadata": {},
     "output_type": "execute_result"
    }
   ],
   "source": [
    "train.shape"
   ]
  },
  {
   "cell_type": "markdown",
   "metadata": {},
   "source": [
    "<a id='baseline'></a>\n",
    "# Baseline = 79239.33"
   ]
  },
  {
   "cell_type": "code",
   "execution_count": 5,
   "metadata": {},
   "outputs": [
    {
     "name": "stdout",
     "output_type": "stream",
     "text": [
      "79239.3350416\n"
     ]
    }
   ],
   "source": [
    "##Baseline\n",
    "train['mean'] = train['saleprice'].mean()\n",
    "\n",
    "y_test = train['saleprice'].values\n",
    "prediction_mean = train['mean'].values\n",
    "baseline = np.sqrt(mean_squared_error(y_test, prediction_mean))\n",
    "print(baseline)\n"
   ]
  },
  {
   "cell_type": "code",
   "execution_count": 6,
   "metadata": {
    "collapsed": true
   },
   "outputs": [],
   "source": [
    "##Selecting all possible features.\n",
    "features = [c for c in train.columns if c not in ['saleprice', 'mean']]\n"
   ]
  },
  {
   "cell_type": "markdown",
   "metadata": {},
   "source": [
    "<a id='models'></a>\n",
    "# DIFFERENT MODELS  \n",
    "\n",
    "## Score: Root Mean Squared Error\n",
    "### RMSE: np.sqrt(metrics.mean_squared_error(true, predictions))\n",
    "\n",
    "\n",
    "#### Before that and in every case I will first scale my data\n",
    "\n",
    "\n",
    "\n",
    "    1. AdaBoostRegressor.\n",
    "    2. GradientBoostingRegressor. \n",
    "    3. LinearRegression (plain) and with regularization: Lasso, Ridge ElasticNet.\n",
    "    4. SupportVectorRegressor as SVR.\n",
    "    \n",
    "## First Try\n",
    "### Best Score: 33836"
   ]
  },
  {
   "cell_type": "code",
   "execution_count": 7,
   "metadata": {
    "collapsed": true
   },
   "outputs": [],
   "source": [
    "first_try = 33836"
   ]
  },
  {
   "cell_type": "markdown",
   "metadata": {},
   "source": [
    "<a id='scaling'></a>"
   ]
  },
  {
   "cell_type": "code",
   "execution_count": null,
   "metadata": {
    "collapsed": true
   },
   "outputs": [],
   "source": [
    "X = train[features].copy()\n",
    "y = train['saleprice'].copy()\n",
    "XT = test.copy()\n",
    "X_train, X_test, y_train, y_test = train_test_split(X, y, test_size=0.25, random_state=2)\n",
    "\n",
    "ss = StandardScaler()\n",
    "Xs_train = ss.fit_transform(X_train)\n",
    "Xs_test = ss.fit_transform(X_test)\n",
    "XTs = ss.fit_transform(XT)\n",
    "\n",
    "##AdaBoost\n",
    "ada = AdaBoostRegressor()\n",
    "ada_params = {'n_estimators': [25, 50, 75],\n",
    "             'loss': ['linear', 'square', 'exponential']}\n",
    "ada_model = GridSearchCV(ada, param_grid=ada_params)\n",
    "ada_model.fit(Xs_train, y_train)\n",
    "print('best score', ada_model.best_score_)\n",
    "print('best params', ada_model.best_params_)\n",
    "print('test score', ada_model.score(Xs_test, y_test))\n",
    "predictions = ada_model.predict(Xs_test)\n",
    "RMSE = np.sqrt(mean_squared_error(y_test, predictions))\n",
    "print(RMSE)\n",
    "\n",
    "##GBoost\n",
    "\n",
    "gbc = GradientBoostingRegressor()\n",
    "gbc_params = {'n_estimators': [100, 125, 150, 175], 'max_features': ['auto', 'log2', None], 'max_depth': range(1,4)}\n",
    "gbc_model = GridSearchCV(gbc, param_grid=gbc_params)\n",
    "gbc_model.fit(Xs_train, y_train)\n",
    "print('best score', gbc_model.best_score_)\n",
    "print('best params', gbc_model.best_params_)\n",
    "print('test score', gbc_model.score(Xs_test, y_test))\n",
    "prediction = gbc_model.predict(XTs)\n",
    "test['SalePrice'] = prediction\n",
    "predictions = gbc_model.predict(Xs_test)\n",
    "RMSE = np.sqrt(mean_squared_error(y_test, predictions))\n",
    "print(RMSE)\n",
    "##LinearRegression\n",
    "lr = LinearRegression()\n",
    "lr_params = {}\n",
    "lr_model = GridSearchCV(lr, param_grid=lr_params)\n",
    "lr_model.fit(Xs_train, y_train)\n",
    "print('best score', lr_model.best_score_)\n",
    "print('best params', lr_model.best_params_)\n",
    "print('test score', lr_model.score(Xs_test, y_test))\n",
    "predictions = lr_model.predict(Xs_test)\n",
    "RMSE = np.sqrt(mean_squared_error(y_test, predictions))\n",
    "print(RMSE)\n",
    "##LAsso\n",
    "lasso = Lasso()\n",
    "lasso_params = {'alpha': [50, 75, 100, 200, 500, 1000]}\n",
    "lasso_model = GridSearchCV(lasso, param_grid=lasso_params)\n",
    "lasso_model.fit(Xs_train, y_train)\n",
    "print('best score', lasso_model.best_score_)\n",
    "print('best params', lasso_model.best_params_)\n",
    "print('test score', lasso_model.score(Xs_test, y_test))\n",
    "predictions = lasso_model.predict(Xs_test)\n",
    "RMSE = np.sqrt(mean_squared_error(y_test, predictions))\n",
    "print(RMSE)\n",
    "##Ridge\n",
    "ridge = Ridge()\n",
    "ridge_params = {'alpha': np.logspace(0, 5, 200)}\n",
    "ridge_model = GridSearchCV(ridge, param_grid=ridge_params)\n",
    "ridge_model.fit(Xs_train, y_train)\n",
    "print('best score', ridge_model.best_score_)\n",
    "print('best params', ridge_model.best_params_)\n",
    "print('test score', ridge_model.score(Xs_test, y_test))\n",
    "predictions = ridge_model.predict(Xs_test)\n",
    "RMSE = np.sqrt(mean_squared_error(y_test, predictions))\n",
    "print(RMSE)\n",
    "##ElasticNet\n",
    "en = ElasticNet()\n",
    "en_params = {'alpha': np.arange(0.01, 20.0, 0.010)}\n",
    "en_model = GridSearchCV(en, param_grid=en_params)\n",
    "en_model.fit(Xs_train, y_train)\n",
    "print('best score', en_model.best_score_)\n",
    "print('best params', en_model.best_params_)\n",
    "print('test score', en_model.score(Xs_test, y_test))\n",
    "en.fit(Xs_train, y_train)\n",
    "predictions = en_model.predict(Xs_test)\n",
    "RMSE = np.sqrt(mean_squared_error(y_test, predictions))\n",
    "print(RMSE)\n",
    "\n",
    "svm = SVR()\n",
    "\n",
    "svm_params = {'C': range(20,40),\n",
    "             'kernel': ['linear', 'poly', 'rbf']}\n",
    "svm_model = GridSearchCV(svm, param_grid=svm_params)\n",
    "svm_model.fit(Xs_train, y_train)\n",
    "print('best score', svm_model.best_score_)\n",
    "print('best params', svm_model.best_params_)\n",
    "print('test score', svm_model.score(Xs_test, y_test))\n",
    "predictions = svm_model.predict(Xs_test)\n",
    "RMSE = np.sqrt(mean_squared_error(y_test, predictions))\n",
    "print(RMSE)"
   ]
  },
  {
   "cell_type": "code",
   "execution_count": 18,
   "metadata": {
    "collapsed": true
   },
   "outputs": [],
   "source": [
    "X = train[features].copy()\n",
    "y = train['saleprice'].copy()\n",
    "XT = test.copy()\n",
    "X_train, X_test, y_train, y_test = train_test_split(X, y, test_size=0.25, random_state=2)\n",
    "\n",
    "ss = StandardScaler()\n",
    "Xs_train = ss.fit_transform(X_train)\n",
    "Xs_test = ss.fit_transform(X_test)\n",
    "XTs = ss.fit_transform(XT)\n"
   ]
  },
  {
   "cell_type": "code",
   "execution_count": null,
   "metadata": {
    "collapsed": true
   },
   "outputs": [],
   "source": [
    "##44000\n",
    "prediction = ada_model.predict(XTs)\n",
    "test['SalePrice'] = prediction\n",
    "for_kaggle = test[['id', 'SalePrice']]\n",
    "for_kaggle.loc[for_kaggle['SalePrice'] < 0, 'SalePrice'] = 0\n",
    "for_kaggle.to_csv('Baseline3.csv', index=False, encoding='utf-8')"
   ]
  },
  {
   "cell_type": "markdown",
   "metadata": {},
   "source": [
    "## Conclusions after first try: \n",
    "### The best model is GradientBoostingRegressor\n",
    "### I will only use from now on (I am dropping the rest): GradientBoosting, ELasticNet and SVR \n"
   ]
  },
  {
   "cell_type": "markdown",
   "metadata": {},
   "source": [
    "# FEATURE SELECTION\n",
    "\n",
    "Will proceed to select 100 variables out of the 280 that I started with. Will do it as follows:\n",
    "\n",
    "- [1.Correlation: Select the 100 features most correlated with the target](#correlation)\n",
    "\n",
    "- [2.Lasso: Select the 100 features with the biggest coefficients in Lasso](#lasso)\n",
    "\n",
    "- [3.Select the 100 features using Recursive Feature Elimination](#rfe)\n",
    "\n",
    "- [4.Select 100 with SelektBest](#sb)\n",
    "\n",
    "- [5.Select the features that are in all 4 selections above or in two of them](#selection)\n",
    "\n",
    "\n",
    "PT- I am taking 200 in case I want to use more later on."
   ]
  },
  {
   "cell_type": "markdown",
   "metadata": {},
   "source": [
    "<a id='second_try'></a>\n",
    "## Second Try \n",
    "### Best Score: 21348"
   ]
  },
  {
   "cell_type": "code",
   "execution_count": 8,
   "metadata": {
    "collapsed": true
   },
   "outputs": [],
   "source": [
    "second_try = 21348"
   ]
  },
  {
   "cell_type": "markdown",
   "metadata": {},
   "source": [
    "<a id='correlation'></a>\n",
    "\n",
    "### Correlation"
   ]
  },
  {
   "cell_type": "code",
   "execution_count": 19,
   "metadata": {
    "collapsed": true
   },
   "outputs": [],
   "source": [
    "corr_list = train.corr()['saleprice'].apply(lambda x: abs(x)).sort_values(ascending=False).head(101)\n",
    "corr_selection = (corr_list.index)[1:]"
   ]
  },
  {
   "cell_type": "markdown",
   "metadata": {},
   "source": [
    "<a id='lasso'></a>\n",
    "### Lasso"
   ]
  },
  {
   "cell_type": "code",
   "execution_count": 20,
   "metadata": {},
   "outputs": [
    {
     "name": "stderr",
     "output_type": "stream",
     "text": [
      "/Users/fcbnyc/anaconda3/lib/python3.6/site-packages/sklearn/linear_model/coordinate_descent.py:484: ConvergenceWarning: Objective did not converge. You might want to increase the number of iterations. Fitting data with very small alpha may cause precision problems.\n",
      "  ConvergenceWarning)\n"
     ]
    }
   ],
   "source": [
    "lasso = Lasso()\n",
    "lasso.fit(Xs_train, y_train)\n",
    "lasso_features = []\n",
    "for i, col in enumerate(X_train.columns):\n",
    "        t = list([col, lasso.coef_[i]])\n",
    "        lasso_features.append(t)\n",
    "        lasso_features.sort(key=lambda x: x[1])\n",
    "        lasso_features.reverse()\n",
    "lasso_features[0:50]\n",
    "lasso_selection = []\n",
    "for item in lasso_features[0:101]:\n",
    "    lasso_selection.append(item[0])\n"
   ]
  },
  {
   "cell_type": "markdown",
   "metadata": {},
   "source": [
    "<a id='rfe'></a>\n",
    "### Recursive Feature Elimination (rfe)"
   ]
  },
  {
   "cell_type": "code",
   "execution_count": null,
   "metadata": {
    "collapsed": true
   },
   "outputs": [],
   "source": [
    "<a id='rfe'></a>\n",
    "svm = SVR(kernel='linear')\n",
    "rfe = RFE(svm, n_features_to_select=100, verbose=2)\n",
    "\n",
    "rfe.fit(Xs_train, y_train)\n",
    "rfe_selection = []\n",
    "for i, col in enumerate([col for col in train.columns if col not in['saleprice', 'mean', 'sale_condition']]):\n",
    "    if rfe.support_[i] == True:\n",
    "        rfe_selection.append(col)"
   ]
  },
  {
   "cell_type": "code",
   "execution_count": null,
   "metadata": {
    "collapsed": true
   },
   "outputs": [],
   "source": [
    "rfe = pd.DataFrame(rfe_selection)\n",
    "rfe.to_csv('rfe_selection.cvs', index=False, encoding='utf-8')"
   ]
  },
  {
   "cell_type": "markdown",
   "metadata": {},
   "source": [
    "<a id='sb'></a>\n",
    "### SelectBest"
   ]
  },
  {
   "cell_type": "code",
   "execution_count": null,
   "metadata": {
    "collapsed": true
   },
   "outputs": [],
   "source": [
    "selectkbest = SelectKBest(score_func=f_regression, k=101)\n",
    "selectkbest.fit(Xs_train, y_train)"
   ]
  },
  {
   "cell_type": "code",
   "execution_count": 17,
   "metadata": {},
   "outputs": [
    {
     "ename": "NameError",
     "evalue": "name 'X_train' is not defined",
     "output_type": "error",
     "traceback": [
      "\u001b[0;31m---------------------------------------------------------------------------\u001b[0m",
      "\u001b[0;31mNameError\u001b[0m                                 Traceback (most recent call last)",
      "\u001b[0;32m<ipython-input-17-275e2145b5eb>\u001b[0m in \u001b[0;36m<module>\u001b[0;34m()\u001b[0m\n\u001b[0;32m----> 1\u001b[0;31m \u001b[0msb_selection\u001b[0m \u001b[0;34m=\u001b[0m \u001b[0mX_train\u001b[0m\u001b[0;34m.\u001b[0m\u001b[0miloc\u001b[0m\u001b[0;34m[\u001b[0m\u001b[0;34m:\u001b[0m\u001b[0;34m,\u001b[0m \u001b[0mselectkbest\u001b[0m\u001b[0;34m.\u001b[0m\u001b[0mget_support\u001b[0m\u001b[0;34m(\u001b[0m\u001b[0;34m)\u001b[0m\u001b[0;34m]\u001b[0m\u001b[0;34m.\u001b[0m\u001b[0mcolumns\u001b[0m\u001b[0;34m\u001b[0m\u001b[0m\n\u001b[0m\u001b[1;32m      2\u001b[0m \u001b[0msb_selection\u001b[0m\u001b[0;34m\u001b[0m\u001b[0m\n",
      "\u001b[0;31mNameError\u001b[0m: name 'X_train' is not defined"
     ]
    }
   ],
   "source": [
    "sb_selection = X_train.iloc[:, selectkbest.get_support()].columns\n",
    "sb_selection"
   ]
  },
  {
   "cell_type": "markdown",
   "metadata": {},
   "source": [
    "<a id='selection'></a>\n",
    "### Selection"
   ]
  },
  {
   "cell_type": "code",
   "execution_count": 21,
   "metadata": {},
   "outputs": [
    {
     "ename": "IndentationError",
     "evalue": "unexpected indent (<ipython-input-21-05d486ad614b>, line 8)",
     "output_type": "error",
     "traceback": [
      "\u001b[0;36m  File \u001b[0;32m\"<ipython-input-21-05d486ad614b>\"\u001b[0;36m, line \u001b[0;32m8\u001b[0m\n\u001b[0;31m    first_sel = []\u001b[0m\n\u001b[0m    ^\u001b[0m\n\u001b[0;31mIndentationError\u001b[0m\u001b[0;31m:\u001b[0m unexpected indent\n"
     ]
    }
   ],
   "source": [
    "#Making sure i do not have some surprise later\n",
    "corr_selection = [c for c in corr_selection if c not in ['saleprice', 'mean', 'sale_condition']]\n",
    "lasso_selection = [c for c in lasso_selection if c not in ['saleprice', 'mean', 'sale_condition']]\n",
    "rfe_selection = [c for c in rfe_selection if c not in ['saleprice', 'mean', 'sale_condition']]\n",
    "sb_selection = [c for c in sb_selection if c not in ['saleprice', 'mean', 'sale_condition']]\n",
    "\n",
    "    #create some new lists of features\n",
    "    first_sel = []\n",
    "    first_sel_in_one = []\n",
    "    first_sel_in_two = []\n",
    "    first_sel_in_three = []\n",
    "    for item in train.columns:\n",
    "        if item in corr_selection:\n",
    "            first_sel_in_one.append(item)\n",
    "            if item in lasso_selection:\n",
    "                first_sel_in_two.append(item)\n",
    "                if item in rfe_selection:\n",
    "                    first_sel_in_three.append(item)\n",
    "                    if item in sb_selection:\n",
    "                        first_sel.append(item)\n",
    "\n",
    "    print('first_sel', len(first_sel),'first_sel_in_one' ,len(first_sel_in_one),'first_sel_in_two',len(first_sel_in_two),\\\n",
    "          'first_sel_in_three', len(first_sel_in_three))"
   ]
  },
  {
   "cell_type": "markdown",
   "metadata": {},
   "source": [
    "### These are the lists of fetures that I will use"
   ]
  },
  {
   "cell_type": "code",
   "execution_count": null,
   "metadata": {
    "collapsed": true
   },
   "outputs": [],
   "source": [
    "selections = [corr_selection, lasso_selection, rfe_selection, sb_selection, first_sel, first_sel_in_two]"
   ]
  },
  {
   "cell_type": "code",
   "execution_count": null,
   "metadata": {
    "collapsed": true
   },
   "outputs": [],
   "source": [
    "for item in selections:\n",
    "    X = train[item]\n",
    "    y = train['saleprice']\n",
    "    XT = test[item]\n",
    "\n",
    "    X_train, X_test, y_train, y_test = train_test_split(X, y, test_size=0.25, random_state=42)\n",
    "\n",
    "    ss = StandardScaler()\n",
    "    ss.fit(X_train)\n",
    "    Xs_train = ss.transform(X_train)\n",
    "    Xs_test = ss.transform(X_test)\n",
    "    XTs = ss.transform(XT)\n",
    "\n",
    "\n",
    "    ##GBoost\n",
    "\n",
    "    gbc = GradientBoostingRegressor()\n",
    "    gbc_params = {'n_estimators': [100, 125, 150, 175], 'max_features': ['auto', 'log2', None], 'max_depth': range(1,4)}\n",
    "    gbc_model = GridSearchCV(gbc, param_grid=gbc_params)\n",
    "    gbc_model.fit(Xs_train, y_train)\n",
    "    print('best score', gbc_model.best_score_)\n",
    "    print('best params', gbc_model.best_params_)\n",
    "    print('test score', gbc_model.score(Xs_test, y_test))\n",
    "    prediction = gbc_model.predict(XTs)\n",
    "    test['SalePrice'] = prediction\n",
    "    predictions = gbc_model.predict(Xs_test)\n",
    "    RMSE = np.sqrt(mean_squared_error(y_test, predictions))\n",
    "    print('gbc', RMSE)\n",
    "\n",
    "    ##ElasticNet\n",
    "    en = ElasticNet()\n",
    "    en_params = {'alpha': np.arange(0.01, 20.0, 0.010)}\n",
    "    en_model = GridSearchCV(en, param_grid=en_params)\n",
    "    en_model.fit(Xs_train, y_train)\n",
    "    print('best score', en_model.best_score_)\n",
    "    print('best params', en_model.best_params_)\n",
    "    print('test score', en_model.score(Xs_test, y_test))\n",
    "    en.fit(Xs_train, y_train)\n",
    "    predictions = en_model.predict(Xs_test)\n",
    "    RMSE = np.sqrt(mean_squared_error(y_test, predictions))\n",
    "    print('ElasticNet', RMSE)\n",
    "\n",
    "    svm = SVR()\n",
    "\n",
    "    svm_params = {'C': range(20,40),\n",
    "                 'kernel': ['linear', 'poly', 'rbf']}\n",
    "    svm_model = GridSearchCV(svm, param_grid=svm_params)\n",
    "    svm_model.fit(Xs_train, y_train)\n",
    "    print('best score', svm_model.best_score_)\n",
    "    print('best params', svm_model.best_params_)\n",
    "    print('test score', svm_model.score(Xs_test, y_test))\n",
    "    predictions = svm_model.predict(Xs_test)\n",
    "    RMSE = np.sqrt(mean_squared_error(y_test, predictions))\n",
    "    print('svm', RMSE)"
   ]
  },
  {
   "cell_type": "markdown",
   "metadata": {},
   "source": [
    "## Conclusions after the second try: \n",
    "\n",
    "### The best model still is GradientBoostingRegressor (I am dropping the rest)\n",
    "### I take to Kaggle the last list to see if I get a better score with less features\n"
   ]
  },
  {
   "cell_type": "code",
   "execution_count": null,
   "metadata": {
    "collapsed": true
   },
   "outputs": [],
   "source": [
    "X = train[first_sel_in_two]\n",
    "y = train['saleprice']\n",
    "XT = test[first_sel_in_two]\n",
    "\n",
    "X_train, X_test, y_train, y_test = train_test_split(X, y, test_size=0.25, random_state=42)\n",
    "\n",
    "ss = StandardScaler()\n",
    "ss.fit(X_train)\n",
    "Xs_train = ss.transform(X_train)\n",
    "Xs_test = ss.transform(X_test)\n",
    "XTs = ss.transform(XT)\n",
    "\n",
    "\n",
    "##GBoost\n",
    "\n",
    "gbc = GradientBoostingRegressor()\n",
    "gbc_params = {'n_estimators': [100, 125, 150, 175], 'max_features': ['auto', 'log2', None], 'max_depth': range(1,4)}\n",
    "gbc_model = GridSearchCV(gbc, param_grid=gbc_params)\n",
    "gbc_model.fit(Xs_train, y_train)\n",
    "    #print('best score', gbc_model.best_score_)\n",
    "    #print('best params', gbc_model.best_params_)\n",
    "    #print('test score', gbc_model.score(Xs_test, y_test))\n",
    "predictions = gbc_model.predict(Xs_test)\n",
    "prediction = gbc_model.predict(XTs)\n",
    "test['SalePrice'] = prediction\n",
    "RMSE = np.sqrt(mean_squared_error(y_test, predictions))\n",
    "print('gbc', RMSE)\n",
    "for_kaggle = test[['id', 'SalePrice']]\n",
    "for_kaggle.loc[for_kaggle['SalePrice'] < 0, 'SalePrice'] = 0\n",
    "for_kaggle.to_csv('gbccorr1stselin2.csv', index=False, encoding='utf-8')"
   ]
  },
  {
   "cell_type": "markdown",
   "metadata": {},
   "source": [
    "## Third Try \n",
    "### Best Score: 24871\n",
    "### I am going to define lists for only 10 features and try again."
   ]
  },
  {
   "cell_type": "code",
   "execution_count": 11,
   "metadata": {
    "collapsed": true
   },
   "outputs": [],
   "source": [
    "third_try =24871"
   ]
  },
  {
   "cell_type": "code",
   "execution_count": 13,
   "metadata": {},
   "outputs": [
    {
     "ename": "NameError",
     "evalue": "name 'corr_selection' is not defined",
     "output_type": "error",
     "traceback": [
      "\u001b[0;31m---------------------------------------------------------------------------\u001b[0m",
      "\u001b[0;31mNameError\u001b[0m                                 Traceback (most recent call last)",
      "\u001b[0;32m<ipython-input-13-252422851d77>\u001b[0m in \u001b[0;36m<module>\u001b[0;34m()\u001b[0m\n\u001b[0;32m----> 1\u001b[0;31m \u001b[0mcorr_sel\u001b[0m \u001b[0;34m=\u001b[0m \u001b[0mcorr_selection\u001b[0m\u001b[0;34m[\u001b[0m\u001b[0;36m0\u001b[0m\u001b[0;34m:\u001b[0m\u001b[0;36m11\u001b[0m\u001b[0;34m]\u001b[0m\u001b[0;34m\u001b[0m\u001b[0m\n\u001b[0m\u001b[1;32m      2\u001b[0m \u001b[0mlasso_sel\u001b[0m \u001b[0;34m=\u001b[0m \u001b[0mlasso_selection\u001b[0m\u001b[0;34m[\u001b[0m\u001b[0;36m0\u001b[0m\u001b[0;34m:\u001b[0m\u001b[0;36m11\u001b[0m\u001b[0;34m]\u001b[0m\u001b[0;34m\u001b[0m\u001b[0m\n\u001b[1;32m      3\u001b[0m \u001b[0mrfe_sel\u001b[0m \u001b[0;34m=\u001b[0m \u001b[0mrfe_selection\u001b[0m\u001b[0;34m[\u001b[0m\u001b[0;36m0\u001b[0m\u001b[0;34m:\u001b[0m\u001b[0;36m11\u001b[0m\u001b[0;34m]\u001b[0m\u001b[0;34m\u001b[0m\u001b[0m\n\u001b[1;32m      4\u001b[0m \u001b[0msb_sel\u001b[0m \u001b[0;34m=\u001b[0m \u001b[0msb_selection\u001b[0m\u001b[0;34m[\u001b[0m\u001b[0;36m0\u001b[0m\u001b[0;34m:\u001b[0m\u001b[0;36m11\u001b[0m\u001b[0;34m]\u001b[0m\u001b[0;34m\u001b[0m\u001b[0m\n\u001b[1;32m      5\u001b[0m \u001b[0;34m\u001b[0m\u001b[0m\n",
      "\u001b[0;31mNameError\u001b[0m: name 'corr_selection' is not defined"
     ]
    }
   ],
   "source": [
    "corr_sel = corr_selection[0:11]\n",
    "lasso_sel = lasso_selection[0:11]\n",
    "rfe_sel = rfe_selection[0:11]\n",
    "sb_sel = sb_selection[0:11]\n",
    "\n",
    "#create some new lists of features\n",
    "first_sel = []\n",
    "first_sel_in_one = []\n",
    "first_sel_in_two = []\n",
    "first_sel_in_three = []\n",
    "for item in train.columns:\n",
    "    if item in corr_sel:\n",
    "        first_sel_in_one.append(item)\n",
    "        if item in lasso_sel:\n",
    "            first_sel_in_two.append(item)\n",
    "            if item in rfe_sel:\n",
    "                first_sel_in_three.append(item)\n",
    "                if item in sb_sel:\n",
    "                    first_sel.append(item)\n",
    "\n",
    "print('first_sel', len(first_sel),'first_sel_in_one' ,len(first_sel_in_one),'first_sel_in_two',len(first_sel_in_two),\\\n",
    "          'first_sel_in_three', len(first_sel_in_three))\n",
    "\n",
    "selections = [corr_sel, lasso_sel, rfe_sel, sb_sel, first_sel, first_sel_in_two]"
   ]
  },
  {
   "cell_type": "code",
   "execution_count": null,
   "metadata": {
    "collapsed": true
   },
   "outputs": [],
   "source": [
    "for item in selections:\n",
    "    X = train[item]\n",
    "    y = train['saleprice']\n",
    "    XT = test[item]\n",
    "\n",
    "    X_train, X_test, y_train, y_test = train_test_split(X, y, test_size=0.25, random_state=42)\n",
    "\n",
    "    ss = StandardScaler()\n",
    "    ss.fit(X_train)\n",
    "    Xs_train = ss.transform(X_train)\n",
    "    Xs_test = ss.transform(X_test)\n",
    "    XTs = ss.transform(XT)\n",
    "\n",
    "\n",
    "    ##GBoost\n",
    "\n",
    "    gbc = GradientBoostingRegressor()\n",
    "    gbc_params = {'n_estimators': [100, 125, 150, 175], 'max_features': ['auto', 'log2', None], 'max_depth': range(1,4)}\n",
    "    gbc_model = GridSearchCV(gbc, param_grid=gbc_params)\n",
    "    gbc_model.fit(Xs_train, y_train)\n",
    "    print('best score', gbc_model.best_score_)\n",
    "    print('best params', gbc_model.best_params_)\n",
    "    print('test score', gbc_model.score(Xs_test, y_test))\n",
    "    prediction = gbc_model.predict(XTs)\n",
    "    test['SalePrice'] = prediction\n",
    "    predictions = gbc_model.predict(Xs_test)\n",
    "    RMSE = np.sqrt(mean_squared_error(y_test, predictions))\n",
    "    print('gbc', RMSE)\n"
   ]
  },
  {
   "cell_type": "code",
   "execution_count": 22,
   "metadata": {},
   "outputs": [
    {
     "name": "stdout",
     "output_type": "stream",
     "text": [
      "gbc 21920.6760885\n"
     ]
    },
    {
     "name": "stderr",
     "output_type": "stream",
     "text": [
      "/Users/fcbnyc/anaconda3/lib/python3.6/site-packages/pandas/core/indexing.py:517: SettingWithCopyWarning: \n",
      "A value is trying to be set on a copy of a slice from a DataFrame.\n",
      "Try using .loc[row_indexer,col_indexer] = value instead\n",
      "\n",
      "See the caveats in the documentation: http://pandas.pydata.org/pandas-docs/stable/indexing.html#indexing-view-versus-copy\n",
      "  self.obj[item] = s\n"
     ]
    }
   ],
   "source": [
    "X = train[corr_sel]\n",
    "y = train['saleprice']\n",
    "XT = test[corr_sel]\n",
    "\n",
    "X_train, X_test, y_train, y_test = train_test_split(X, y, test_size=0.25, random_state=42)\n",
    "\n",
    "ss = StandardScaler()\n",
    "ss.fit(X_train)\n",
    "Xs_train = ss.transform(X_train)\n",
    "Xs_test = ss.transform(X_test)\n",
    "XTs = ss.transform(XT)\n",
    "\n",
    "\n",
    "##GBoost\n",
    "\n",
    "gbc = GradientBoostingRegressor()\n",
    "gbc_params = {'n_estimators': [100, 125, 150, 175], 'max_features': ['auto', 'log2', None], 'max_depth': range(1,4)}\n",
    "gbc_model = GridSearchCV(gbc, param_grid=gbc_params)\n",
    "gbc_model.fit(Xs_train, y_train)\n",
    "    #print('best score', gbc_model.best_score_)\n",
    "    #print('best params', gbc_model.best_params_)\n",
    "    #print('test score', gbc_model.score(Xs_test, y_test))\n",
    "predictions = gbc_model.predict(Xs_test)\n",
    "prediction = gbc_model.predict(XTs)\n",
    "test['SalePrice'] = prediction\n",
    "RMSE = np.sqrt(mean_squared_error(y_test, predictions))\n",
    "print('gbc', RMSE)\n",
    "for_kaggle = test[['id', 'SalePrice']]\n",
    "for_kaggle.loc[for_kaggle['SalePrice'] < 0, 'SalePrice'] = 0\n",
    "for_kaggle.to_csv('gbccorr10.csv', index=False, encoding='utf-8')"
   ]
  },
  {
   "cell_type": "markdown",
   "metadata": {},
   "source": [
    "# Scores are worst. I will try again but adding more features"
   ]
  },
  {
   "cell_type": "markdown",
   "metadata": {},
   "source": [
    "## Last try for now. \n",
    "### Best Score: 21682\n",
    "### I will use  50 features"
   ]
  },
  {
   "cell_type": "code",
   "execution_count": 12,
   "metadata": {
    "collapsed": true
   },
   "outputs": [],
   "source": [
    "fourth_try = 21682"
   ]
  },
  {
   "cell_type": "code",
   "execution_count": 23,
   "metadata": {},
   "outputs": [
    {
     "ename": "NameError",
     "evalue": "name 'rfe_selection' is not defined",
     "output_type": "error",
     "traceback": [
      "\u001b[0;31m---------------------------------------------------------------------------\u001b[0m",
      "\u001b[0;31mNameError\u001b[0m                                 Traceback (most recent call last)",
      "\u001b[0;32m<ipython-input-23-fcb1180e4ed7>\u001b[0m in \u001b[0;36m<module>\u001b[0;34m()\u001b[0m\n\u001b[1;32m      1\u001b[0m \u001b[0mcorr_sel\u001b[0m \u001b[0;34m=\u001b[0m \u001b[0mcorr_selection\u001b[0m\u001b[0;34m[\u001b[0m\u001b[0;36m0\u001b[0m\u001b[0;34m:\u001b[0m\u001b[0;36m51\u001b[0m\u001b[0;34m]\u001b[0m\u001b[0;34m\u001b[0m\u001b[0m\n\u001b[1;32m      2\u001b[0m \u001b[0mlasso_sel\u001b[0m \u001b[0;34m=\u001b[0m \u001b[0mlasso_selection\u001b[0m\u001b[0;34m[\u001b[0m\u001b[0;36m0\u001b[0m\u001b[0;34m:\u001b[0m\u001b[0;36m51\u001b[0m\u001b[0;34m]\u001b[0m\u001b[0;34m\u001b[0m\u001b[0m\n\u001b[0;32m----> 3\u001b[0;31m \u001b[0mrfe_sel\u001b[0m \u001b[0;34m=\u001b[0m \u001b[0mrfe_selection\u001b[0m\u001b[0;34m[\u001b[0m\u001b[0;36m0\u001b[0m\u001b[0;34m:\u001b[0m\u001b[0;36m51\u001b[0m\u001b[0;34m]\u001b[0m\u001b[0;34m\u001b[0m\u001b[0m\n\u001b[0m\u001b[1;32m      4\u001b[0m \u001b[0msb_sel\u001b[0m \u001b[0;34m=\u001b[0m \u001b[0msb_selection\u001b[0m\u001b[0;34m[\u001b[0m\u001b[0;36m0\u001b[0m\u001b[0;34m:\u001b[0m\u001b[0;36m51\u001b[0m\u001b[0;34m]\u001b[0m\u001b[0;34m\u001b[0m\u001b[0m\n\u001b[1;32m      5\u001b[0m \u001b[0;34m\u001b[0m\u001b[0m\n",
      "\u001b[0;31mNameError\u001b[0m: name 'rfe_selection' is not defined"
     ]
    }
   ],
   "source": [
    "corr_sel = corr_selection[0:51]\n",
    "lasso_sel = lasso_selection[0:51]\n",
    "rfe_sel = rfe_selection[0:51]\n",
    "sb_sel = sb_selection[0:51]\n",
    "\n",
    "#create some new lists of features\n",
    "first_sel = []\n",
    "first_sel_in_one = []\n",
    "first_sel_in_two = []\n",
    "first_sel_in_three = []\n",
    "for item in train.columns:\n",
    "    if item in corr_sel:\n",
    "        first_sel_in_one.append(item)\n",
    "        if item in lasso_sel:\n",
    "            first_sel_in_two.append(item)\n",
    "            if item in rfe_sel:\n",
    "                first_sel_in_three.append(item)\n",
    "                if item in sb_sel:\n",
    "                    first_sel.append(item)\n",
    "\n",
    "print('first_sel', len(first_sel),'first_sel_in_one' ,len(first_sel_in_one),'first_sel_in_two',len(first_sel_in_two),\\\n",
    "          'first_sel_in_three', len(first_sel_in_three))\n",
    "\n",
    "selections = [corr_sel, lasso_sel, rfe_sel, sb_sel, first_sel, first_sel_in_two]"
   ]
  },
  {
   "cell_type": "code",
   "execution_count": 78,
   "metadata": {},
   "outputs": [
    {
     "name": "stdout",
     "output_type": "stream",
     "text": [
      "best score 0.869526551237\n",
      "best params {'max_depth': 3, 'max_features': 'log2', 'n_estimators': 150}\n",
      "test score 0.922046082737\n",
      "gbc 21877.819357\n",
      "best score 0.877224572359\n",
      "best params {'max_depth': 3, 'max_features': 'log2', 'n_estimators': 150}\n",
      "test score 0.925246892535\n",
      "gbc 21423.9568825\n",
      "best score 0.872942171554\n",
      "best params {'max_depth': 3, 'max_features': 'log2', 'n_estimators': 125}\n",
      "test score 0.912316777481\n",
      "gbc 23202.955732\n",
      "best score 0.878819363676\n",
      "best params {'max_depth': 3, 'max_features': 'log2', 'n_estimators': 175}\n",
      "test score 0.911104423901\n",
      "gbc 23362.8130939\n",
      "best score 0.85232170496\n",
      "best params {'max_depth': 3, 'max_features': 'log2', 'n_estimators': 175}\n",
      "test score 0.913227711161\n",
      "gbc 23082.1142744\n",
      "best score 0.862603149606\n",
      "best params {'max_depth': 3, 'max_features': 'log2', 'n_estimators': 100}\n",
      "test score 0.914141539332\n",
      "gbc 22960.2498202\n"
     ]
    }
   ],
   "source": [
    "for item in selections:\n",
    "    X = train[item]\n",
    "    y = train['saleprice']\n",
    "    XT = test[item]\n",
    "\n",
    "    X_train, X_test, y_train, y_test = train_test_split(X, y, test_size=0.25, random_state=42)\n",
    "\n",
    "    ss = StandardScaler()\n",
    "    ss.fit(X_train)\n",
    "    Xs_train = ss.transform(X_train)\n",
    "    Xs_test = ss.transform(X_test)\n",
    "    XTs = ss.transform(XT)\n",
    "\n",
    "\n",
    "    ##GBoost\n",
    "\n",
    "    gbc = GradientBoostingRegressor()\n",
    "    gbc_params = {'n_estimators': [100, 125, 150, 175], 'max_features': ['auto', 'log2', None], 'max_depth': range(1,4)}\n",
    "    gbc_model = GridSearchCV(gbc, param_grid=gbc_params)\n",
    "    gbc_model.fit(Xs_train, y_train)\n",
    "    print('best score', gbc_model.best_score_)\n",
    "    print('best params', gbc_model.best_params_)\n",
    "    print('test score', gbc_model.score(Xs_test, y_test))\n",
    "    prediction = gbc_model.predict(XTs)\n",
    "    test['SalePrice'] = prediction\n",
    "    predictions = gbc_model.predict(Xs_test)\n",
    "    RMSE = np.sqrt(mean_squared_error(y_test, predictions))\n",
    "    print('gbc', RMSE)\n"
   ]
  },
  {
   "cell_type": "code",
   "execution_count": 39,
   "metadata": {},
   "outputs": [
    {
     "name": "stdout",
     "output_type": "stream",
     "text": [
      "best score 0.880333485676\n",
      "best params {'max_depth': 3, 'max_features': 'log2', 'n_estimators': 200}\n",
      "test score 0.927114341165\n",
      "gbc 21154.662553\n"
     ]
    },
    {
     "name": "stderr",
     "output_type": "stream",
     "text": [
      "/Users/fcbnyc/anaconda3/lib/python3.6/site-packages/pandas/core/indexing.py:517: SettingWithCopyWarning: \n",
      "A value is trying to be set on a copy of a slice from a DataFrame.\n",
      "Try using .loc[row_indexer,col_indexer] = value instead\n",
      "\n",
      "See the caveats in the documentation: http://pandas.pydata.org/pandas-docs/stable/indexing.html#indexing-view-versus-copy\n",
      "  self.obj[item] = s\n"
     ]
    }
   ],
   "source": [
    "X = train[lasso_sel]\n",
    "y = train['saleprice']\n",
    "XT = test[lasso_sel]\n",
    "\n",
    "X_train, X_test, y_train, y_test = train_test_split(X, y, test_size=0.25, random_state=42)\n",
    "\n",
    "ss = StandardScaler()\n",
    "ss.fit(X_train)\n",
    "Xs_train = ss.transform(X_train)\n",
    "Xs_test = ss.transform(X_test)\n",
    "XTs = ss.transform(XT)\n",
    "\n",
    "\n",
    "##GBoost\n",
    "\n",
    "gbc = GradientBoostingRegressor()\n",
    "gbc_params = {'n_estimators': [100, 125, 150, 175, 200], 'max_features': ['auto', 'log2', None], 'max_depth': range(1,4)}\n",
    "gbc_model = GridSearchCV(gbc, param_grid=gbc_params)\n",
    "gbc_model.fit(Xs_train, y_train)\n",
    "print('best score', gbc_model.best_score_)\n",
    "print('best params', gbc_model.best_params_)\n",
    "print('test score', gbc_model.score(Xs_test, y_test))\n",
    "predictions = gbc_model.predict(Xs_test)\n",
    "prediction = gbc_model.predict(XTs)\n",
    "test['SalePrice'] = prediction\n",
    "RMSE = np.sqrt(mean_squared_error(y_test, predictions))\n",
    "print('gbc', RMSE)\n",
    "for_kaggle = test[['id', 'SalePrice']]\n",
    "for_kaggle.loc[for_kaggle['SalePrice'] < 0, 'SalePrice'] = 0\n",
    "for_kaggle.to_csv('gbclasso50.csv', index=False, encoding='utf-8')"
   ]
  },
  {
   "cell_type": "markdown",
   "metadata": {
    "collapsed": true
   },
   "source": [
    "## I am done for now. Next I will try to tune more the models and/or eliminate features\n",
    "## It is clear to me that the model to be tuned is Gradient BoostingRegressor"
   ]
  },
  {
   "cell_type": "markdown",
   "metadata": {},
   "source": [
    "<a id='plotting'></a>\n",
    "# Plotting\n",
    "\n",
    "## What are the most important features in my last submission?"
   ]
  },
  {
   "cell_type": "code",
   "execution_count": 25,
   "metadata": {},
   "outputs": [
    {
     "data": {
      "image/png": "[encoded data removed]",
      "text/plain": [
       "<matplotlib.figure.Figure at 0x103a057b8>"
      ]
     },
     "metadata": {},
     "output_type": "display_data"
    }
   ],
   "source": [
    "X = train[lasso_sel]\n",
    "y = train['saleprice']\n",
    "XT = test[lasso_sel]\n",
    "\n",
    "X_train, X_test, y_train, y_test = train_test_split(X, y, test_size=0.25, random_state=42)\n",
    "\n",
    "ss = StandardScaler()\n",
    "ss.fit(X_train)\n",
    "Xs_train = ss.transform(X_train)\n",
    "Xs_test = ss.transform(X_test)\n",
    "XTs = ss.transform(XT)\n",
    "gbc = GradientBoostingRegressor(n_estimators=175, max_features='auto', max_depth=3)\n",
    "\n",
    "gbc.fit(Xs_train, y_train)\n",
    "\n",
    "# Plot feature importance\n",
    "feature_importance = gbc.feature_importances_[:10]\n",
    "# make importances relative to max importance\n",
    "feature_importance = 100.0 * (feature_importance / feature_importance.max())\n",
    "sorted_idx = np.argsort(feature_importance)\n",
    "pos = np.arange(sorted_idx.shape[0]) + .5\n",
    "\n",
    "\n",
    "plt.subplots(figsize=(5,10))\n",
    "plt.barh(pos, feature_importance[sorted_idx], align='center',color='g')\n",
    "plt.yticks(pos, corr_selection, fontsize =20)\n",
    "plt.xlabel('Relative Importance')\n",
    "plt.title('Variable Importance')\n",
    "plt.show()\n"
   ]
  },
  {
   "cell_type": "markdown",
   "metadata": {},
   "source": [
    "# How did I reduced the error?"
   ]
  },
  {
   "cell_type": "code",
   "execution_count": 27,
   "metadata": {},
   "outputs": [
    {
     "data": {
      "image/png": "[encoded data removed]",
      "text/plain": [
       "<matplotlib.figure.Figure at 0x1116022e8>"
      ]
     },
     "metadata": {},
     "output_type": "display_data"
    }
   ],
   "source": [
    "objects = ('Baseline', 'Model1', 'Model 2', 'Model 3', 'Model 4')\n",
    "y_pos = np.arange(len(objects))\n",
    "performance = [baseline,first_try,second_try,third_try,fourth_try]\n",
    " \n",
    "plt.bar(y_pos, performance, align='center', alpha=0.5)\n",
    "plt.xticks(y_pos, objects)\n",
    "plt.ylabel('Error', fontsize=20)\n",
    "plt.title('Reducing the error', fontsize=25)\n",
    " \n",
    "plt.show()"
   ]
  },
  {
   "cell_type": "code",
   "execution_count": 37,
   "metadata": {},
   "outputs": [
    {
     "data": {
      "text/plain": [
       "(Index(['overall_qual', 'gr_liv_area', 'garage_area', 'garage_cars',\n",
       "        'total_bsmt_sf', '1st_flr_sf', 'exter_qual_TA', 'bsmt_qual_Ex',\n",
       "        'year_built', 'kitchen_qual_Ex', 'year_remod/add', 'kitchen_qual_TA',\n",
       "        'full_bath', 'foundation_PConc', 'totrms_abvgrd', 'mas_vnr_area',\n",
       "        'exter_qual_Ex', 'fireplace_qu_0', 'fireplaces', 'bsmtfin_type_1_GLQ',\n",
       "        'bsmt_qual_TA', 'heating_qc_Ex', 'neighborhood_NridgHt',\n",
       "        'exter_qual_Gd', 'garage_finish_Unf', 'mas_vnr_type_None',\n",
       "        'bsmtfin_sf_1', 'garage_finish_Fin', 'fireplace_qu_Gd',\n",
       "        'bsmt_exposure_Gd', 'garage_type_Detchd', 'sale_type_New',\n",
       "        'garage_type_Attchd', 'foundation_CBlock', 'heating_qc_TA',\n",
       "        'exterior_1st_VinylSd', 'exterior_2nd_VinylSd', 'open_porch_sf',\n",
       "        'wood_deck_sf', 'lot_frontage', 'mas_vnr_type_Stone', 'lot_shape_Reg',\n",
       "        'kitchen_qual_Gd', 'lot_area', 'bsmt_exposure_No', 'paved_drive_Y',\n",
       "        'bsmt_full_bath', 'half_bath', 'ms_zoning_RM', 'central_air_N',\n",
       "        'central_air_Y'],\n",
       "       dtype='object'),\n",
       " array([  20.90929222,    7.63698966,   54.85710248,   91.28409224,\n",
       "           5.37507733,    5.00638076,    5.67237285,   13.68398892,\n",
       "         100.        ,   93.07236576]))"
      ]
     },
     "execution_count": 37,
     "metadata": {},
     "output_type": "execute_result"
    }
   ],
   "source": [
    "corr_sel, feature_importance"
   ]
  },
  {
   "cell_type": "code",
   "execution_count": 38,
   "metadata": {},
   "outputs": [
    {
     "ename": "IndexError",
     "evalue": "only integers, slices (`:`), ellipsis (`...`), numpy.newaxis (`None`) and integer or boolean arrays are valid indices",
     "output_type": "error",
     "traceback": [
      "\u001b[0;31m---------------------------------------------------------------------------\u001b[0m",
      "\u001b[0;31mIndexError\u001b[0m                                Traceback (most recent call last)",
      "\u001b[0;32m<ipython-input-38-bfa3efd1fafb>\u001b[0m in \u001b[0;36m<module>\u001b[0;34m()\u001b[0m\n\u001b[0;32m----> 1\u001b[0;31m \u001b[0msns\u001b[0m\u001b[0;34m.\u001b[0m\u001b[0mpairplot\u001b[0m\u001b[0;34m(\u001b[0m\u001b[0mpos\u001b[0m\u001b[0;34m,\u001b[0m \u001b[0mfeature_importance\u001b[0m\u001b[0;34m)\u001b[0m\u001b[0;34m\u001b[0m\u001b[0m\n\u001b[0m",
      "\u001b[0;32m/Users/fcbnyc/anaconda3/lib/python3.6/site-packages/seaborn/linearmodels.py\u001b[0m in \u001b[0;36mpairplot\u001b[0;34m(data, hue, hue_order, palette, vars, x_vars, y_vars, kind, diag_kind, markers, size, aspect, dropna, plot_kws, diag_kws, grid_kws)\u001b[0m\n\u001b[1;32m   1588\u001b[0m                     \u001b[0mhue_order\u001b[0m\u001b[0;34m=\u001b[0m\u001b[0mhue_order\u001b[0m\u001b[0;34m,\u001b[0m \u001b[0mpalette\u001b[0m\u001b[0;34m=\u001b[0m\u001b[0mpalette\u001b[0m\u001b[0;34m,\u001b[0m\u001b[0;34m\u001b[0m\u001b[0m\n\u001b[1;32m   1589\u001b[0m                     \u001b[0mdiag_sharey\u001b[0m\u001b[0;34m=\u001b[0m\u001b[0mdiag_sharey\u001b[0m\u001b[0;34m,\u001b[0m\u001b[0;34m\u001b[0m\u001b[0m\n\u001b[0;32m-> 1590\u001b[0;31m                     size=size, aspect=aspect, dropna=dropna, **grid_kws)\n\u001b[0m\u001b[1;32m   1591\u001b[0m \u001b[0;34m\u001b[0m\u001b[0m\n\u001b[1;32m   1592\u001b[0m     \u001b[0;31m# Add the markers here as PairGrid has figured out how many levels of the\u001b[0m\u001b[0;34m\u001b[0m\u001b[0;34m\u001b[0m\u001b[0m\n",
      "\u001b[0;32m/Users/fcbnyc/anaconda3/lib/python3.6/site-packages/seaborn/axisgrid.py\u001b[0m in \u001b[0;36m__init__\u001b[0;34m(self, data, hue, hue_order, palette, hue_kws, vars, x_vars, y_vars, diag_sharey, size, aspect, despine, dropna)\u001b[0m\n\u001b[1;32m   1198\u001b[0m                 \u001b[0;32mraise\u001b[0m \u001b[0mValueError\u001b[0m\u001b[0;34m(\u001b[0m\u001b[0;34m\"Must specify `x_vars` and `y_vars`\"\u001b[0m\u001b[0;34m)\u001b[0m\u001b[0;34m\u001b[0m\u001b[0m\n\u001b[1;32m   1199\u001b[0m         \u001b[0;32melse\u001b[0m\u001b[0;34m:\u001b[0m\u001b[0;34m\u001b[0m\u001b[0m\n\u001b[0;32m-> 1200\u001b[0;31m             \u001b[0mnumeric_cols\u001b[0m \u001b[0;34m=\u001b[0m \u001b[0mself\u001b[0m\u001b[0;34m.\u001b[0m\u001b[0m_find_numeric_cols\u001b[0m\u001b[0;34m(\u001b[0m\u001b[0mdata\u001b[0m\u001b[0;34m)\u001b[0m\u001b[0;34m\u001b[0m\u001b[0m\n\u001b[0m\u001b[1;32m   1201\u001b[0m             \u001b[0mx_vars\u001b[0m \u001b[0;34m=\u001b[0m \u001b[0mnumeric_cols\u001b[0m\u001b[0;34m\u001b[0m\u001b[0m\n\u001b[1;32m   1202\u001b[0m             \u001b[0my_vars\u001b[0m \u001b[0;34m=\u001b[0m \u001b[0mnumeric_cols\u001b[0m\u001b[0;34m\u001b[0m\u001b[0m\n",
      "\u001b[0;32m/Users/fcbnyc/anaconda3/lib/python3.6/site-packages/seaborn/axisgrid.py\u001b[0m in \u001b[0;36m_find_numeric_cols\u001b[0;34m(self, data)\u001b[0m\n\u001b[1;32m   1484\u001b[0m         \u001b[0;32mfor\u001b[0m \u001b[0mcol\u001b[0m \u001b[0;32min\u001b[0m \u001b[0mdata\u001b[0m\u001b[0;34m:\u001b[0m\u001b[0;34m\u001b[0m\u001b[0m\n\u001b[1;32m   1485\u001b[0m             \u001b[0;32mtry\u001b[0m\u001b[0;34m:\u001b[0m\u001b[0;34m\u001b[0m\u001b[0m\n\u001b[0;32m-> 1486\u001b[0;31m                 \u001b[0mdata\u001b[0m\u001b[0;34m[\u001b[0m\u001b[0mcol\u001b[0m\u001b[0;34m]\u001b[0m\u001b[0;34m.\u001b[0m\u001b[0mastype\u001b[0m\u001b[0;34m(\u001b[0m\u001b[0mnp\u001b[0m\u001b[0;34m.\u001b[0m\u001b[0mfloat\u001b[0m\u001b[0;34m)\u001b[0m\u001b[0;34m\u001b[0m\u001b[0m\n\u001b[0m\u001b[1;32m   1487\u001b[0m                 \u001b[0mnumeric_cols\u001b[0m\u001b[0;34m.\u001b[0m\u001b[0mappend\u001b[0m\u001b[0;34m(\u001b[0m\u001b[0mcol\u001b[0m\u001b[0;34m)\u001b[0m\u001b[0;34m\u001b[0m\u001b[0m\n\u001b[1;32m   1488\u001b[0m             \u001b[0;32mexcept\u001b[0m \u001b[0;34m(\u001b[0m\u001b[0mValueError\u001b[0m\u001b[0;34m,\u001b[0m \u001b[0mTypeError\u001b[0m\u001b[0;34m)\u001b[0m\u001b[0;34m:\u001b[0m\u001b[0;34m\u001b[0m\u001b[0m\n",
      "\u001b[0;31mIndexError\u001b[0m: only integers, slices (`:`), ellipsis (`...`), numpy.newaxis (`None`) and integer or boolean arrays are valid indices"
     ]
    }
   ],
   "source": [
    "sns.pairplot(pos, feature_importance)"
   ]
  },
  {
   "cell_type": "code",
   "execution_count": null,
   "metadata": {
    "collapsed": true
   },
   "outputs": [],
   "source": []
  }
 ],
 "metadata": {
  "kernelspec": {
   "display_name": "Python 3",
   "language": "python",
   "name": "python3"
  },
  "language_info": {
   "codemirror_mode": {
    "name": "ipython",
    "version": 3
   },
   "file_extension": ".py",
   "mimetype": "text/x-python",
   "name": "python",
   "nbconvert_exporter": "python",
   "pygments_lexer": "ipython3",
   "version": "3.6.1"
  }
 },
 "nbformat": 4,
 "nbformat_minor": 2
}
